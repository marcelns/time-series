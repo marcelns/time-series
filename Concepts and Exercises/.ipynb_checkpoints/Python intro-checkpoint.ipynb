{
 "cells": [
  {
   "cell_type": "markdown",
   "metadata": {},
   "source": [
    "## Intro to Time Series"
   ]
  },
  {
   "cell_type": "markdown",
   "metadata": {},
   "source": [
    "Forecasting is the process of making predictions based on past and present data. Good forecasts capture the genuine patterns and relationships which exist in the historical data, but do not replicate past events that will not occur again.\n",
    "\n",
    "There is a difference between a **random fluctuation** and a **genuine pattern** that should be modelled and extrapolated."
   ]
  },
  {
   "cell_type": "markdown",
   "metadata": {},
   "source": [
    "### Time series graphics\n",
    "The first thing we shoud do in quantitative forecasting is understand the data. This can be done with exploration analysis.\n",
    "We should look for:\n",
    "1. Patterns\n",
    "2. Unusual observations\n",
    "2. Changes over time\n",
    "4. Relationships between variables."
   ]
  },
  {
   "cell_type": "code",
   "execution_count": 1,
   "metadata": {},
   "outputs": [],
   "source": [
    "# Pandas is the python library for working with and visualizing time series\n",
    "import pandas as pd\n",
    "\n",
    "# Numpy is a library for matricial operations and high-level mathematical functions\n",
    "import numpy as np\n",
    "\n",
    "# Matplot lib is the basic python graphic library\n",
    "import matplotlib.pyplot as plt"
   ]
  },
  {
   "cell_type": "code",
   "execution_count": null,
   "metadata": {},
   "outputs": [],
   "source": []
  }
 ],
 "metadata": {
  "kernelspec": {
   "display_name": "Python 3",
   "language": "python",
   "name": "python3"
  },
  "language_info": {
   "codemirror_mode": {
    "name": "ipython",
    "version": 3
   },
   "file_extension": ".py",
   "mimetype": "text/x-python",
   "name": "python",
   "nbconvert_exporter": "python",
   "pygments_lexer": "ipython3",
   "version": "3.8.3"
  }
 },
 "nbformat": 4,
 "nbformat_minor": 4
}
